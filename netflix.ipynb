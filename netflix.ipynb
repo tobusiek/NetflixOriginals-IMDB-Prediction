{
 "cells": [
  {
   "cell_type": "code",
   "execution_count": 59,
   "metadata": {},
   "outputs": [],
   "source": [
    "import pandas as pd\n",
    "import numpy as np\n",
    "from sklearn.ensemble import RandomForestRegressor\n",
    "from sklearn.ensemble import RandomForestClassifier\n",
    "from imblearn.over_sampling import SMOTE"
   ]
  },
  {
   "cell_type": "code",
   "execution_count": 60,
   "metadata": {},
   "outputs": [
    {
     "name": "stdout",
     "output_type": "stream",
     "text": [
      "/home/s26549/sharedfolder/wlasne_projekty/netflix_classification\n"
     ]
    }
   ],
   "source": [
    "!pwd"
   ]
  },
  {
   "cell_type": "code",
   "execution_count": 61,
   "metadata": {},
   "outputs": [
    {
     "data": {
      "text/html": [
       "<div>\n",
       "<style scoped>\n",
       "    .dataframe tbody tr th:only-of-type {\n",
       "        vertical-align: middle;\n",
       "    }\n",
       "\n",
       "    .dataframe tbody tr th {\n",
       "        vertical-align: top;\n",
       "    }\n",
       "\n",
       "    .dataframe thead th {\n",
       "        text-align: right;\n",
       "    }\n",
       "</style>\n",
       "<table border=\"1\" class=\"dataframe\">\n",
       "  <thead>\n",
       "    <tr style=\"text-align: right;\">\n",
       "      <th></th>\n",
       "      <th>Title</th>\n",
       "      <th>Genre</th>\n",
       "      <th>Premiere</th>\n",
       "      <th>Runtime</th>\n",
       "      <th>IMDB Score</th>\n",
       "      <th>Language</th>\n",
       "    </tr>\n",
       "  </thead>\n",
       "  <tbody>\n",
       "    <tr>\n",
       "      <th>0</th>\n",
       "      <td>Enter the Anime</td>\n",
       "      <td>Documentary</td>\n",
       "      <td>August 5, 2019</td>\n",
       "      <td>58</td>\n",
       "      <td>2.5</td>\n",
       "      <td>English/Japanese</td>\n",
       "    </tr>\n",
       "    <tr>\n",
       "      <th>1</th>\n",
       "      <td>Dark Forces</td>\n",
       "      <td>Thriller</td>\n",
       "      <td>August 21, 2020</td>\n",
       "      <td>81</td>\n",
       "      <td>2.6</td>\n",
       "      <td>Spanish</td>\n",
       "    </tr>\n",
       "    <tr>\n",
       "      <th>2</th>\n",
       "      <td>The App</td>\n",
       "      <td>Science fiction/Drama</td>\n",
       "      <td>December 26, 2019</td>\n",
       "      <td>79</td>\n",
       "      <td>2.6</td>\n",
       "      <td>Italian</td>\n",
       "    </tr>\n",
       "    <tr>\n",
       "      <th>3</th>\n",
       "      <td>The Open House</td>\n",
       "      <td>Horror thriller</td>\n",
       "      <td>January 19, 2018</td>\n",
       "      <td>94</td>\n",
       "      <td>3.2</td>\n",
       "      <td>English</td>\n",
       "    </tr>\n",
       "    <tr>\n",
       "      <th>4</th>\n",
       "      <td>Kaali Khuhi</td>\n",
       "      <td>Mystery</td>\n",
       "      <td>October 30, 2020</td>\n",
       "      <td>90</td>\n",
       "      <td>3.4</td>\n",
       "      <td>Hindi</td>\n",
       "    </tr>\n",
       "  </tbody>\n",
       "</table>\n",
       "</div>"
      ],
      "text/plain": [
       "             Title                  Genre           Premiere  Runtime  \\\n",
       "0  Enter the Anime            Documentary     August 5, 2019       58   \n",
       "1      Dark Forces               Thriller    August 21, 2020       81   \n",
       "2          The App  Science fiction/Drama  December 26, 2019       79   \n",
       "3   The Open House        Horror thriller   January 19, 2018       94   \n",
       "4      Kaali Khuhi                Mystery   October 30, 2020       90   \n",
       "\n",
       "   IMDB Score          Language  \n",
       "0         2.5  English/Japanese  \n",
       "1         2.6           Spanish  \n",
       "2         2.6           Italian  \n",
       "3         3.2           English  \n",
       "4         3.4             Hindi  "
      ]
     },
     "execution_count": 61,
     "metadata": {},
     "output_type": "execute_result"
    }
   ],
   "source": [
    "netflix = pd.read_csv('NetflixOriginals.csv', sep=',', encoding='Windows-1252')\n",
    "netflix.head()"
   ]
  },
  {
   "cell_type": "code",
   "execution_count": 62,
   "metadata": {},
   "outputs": [
    {
     "data": {
      "text/plain": [
       "Index(['title', 'genre', 'premiere', 'runtime', 'imdb', 'language'], dtype='object')"
      ]
     },
     "execution_count": 62,
     "metadata": {},
     "output_type": "execute_result"
    }
   ],
   "source": [
    "cols_rename = {'Title': 'title', 'Genre': 'genre', 'Premiere': 'premiere',\n",
    "    'Runtime': 'runtime', 'IMDB Score': 'imdb', 'Language': 'language'}\n",
    "netflix.rename(cols_rename, axis=1, inplace=True)\n",
    "netflix.columns"
   ]
  },
  {
   "cell_type": "code",
   "execution_count": 63,
   "metadata": {},
   "outputs": [],
   "source": [
    "# netflix['genre'].unique()"
   ]
  },
  {
   "cell_type": "code",
   "execution_count": 64,
   "metadata": {},
   "outputs": [
    {
     "data": {
      "text/html": [
       "<div>\n",
       "<style scoped>\n",
       "    .dataframe tbody tr th:only-of-type {\n",
       "        vertical-align: middle;\n",
       "    }\n",
       "\n",
       "    .dataframe tbody tr th {\n",
       "        vertical-align: top;\n",
       "    }\n",
       "\n",
       "    .dataframe thead th {\n",
       "        text-align: right;\n",
       "    }\n",
       "</style>\n",
       "<table border=\"1\" class=\"dataframe\">\n",
       "  <thead>\n",
       "    <tr style=\"text-align: right;\">\n",
       "      <th></th>\n",
       "      <th>title</th>\n",
       "      <th>genre</th>\n",
       "      <th>premiere</th>\n",
       "      <th>runtime</th>\n",
       "      <th>imdb</th>\n",
       "      <th>language</th>\n",
       "    </tr>\n",
       "  </thead>\n",
       "  <tbody>\n",
       "  </tbody>\n",
       "</table>\n",
       "</div>"
      ],
      "text/plain": [
       "Empty DataFrame\n",
       "Columns: [title, genre, premiere, runtime, imdb, language]\n",
       "Index: []"
      ]
     },
     "execution_count": 64,
     "metadata": {},
     "output_type": "execute_result"
    }
   ],
   "source": [
    "netflix[netflix['genre'].isna()]"
   ]
  },
  {
   "cell_type": "code",
   "execution_count": 65,
   "metadata": {},
   "outputs": [
    {
     "data": {
      "text/plain": [
       "0                Documentary\n",
       "1                   Thriller\n",
       "2      Science fiction/Drama\n",
       "3            Horror/Thriller\n",
       "4                      Crime\n",
       "               ...          \n",
       "579                  Concert\n",
       "580              Documentary\n",
       "581             One-man show\n",
       "582              Documentary\n",
       "583              Documentary\n",
       "Name: genre, Length: 584, dtype: object"
      ]
     },
     "execution_count": 65,
     "metadata": {},
     "output_type": "execute_result"
    }
   ],
   "source": [
    "genres_norm = {\n",
    "    'Documentary': ['Documentary'],\n",
    "    'Thriller': ['Thriller'],\n",
    "    'Science fiction/Drama': ['Science fiction', 'Drama'],\n",
    "    'Horror thriller': ['Horror', 'Thriller'],\n",
    "    'Mystery': ['Crime'],\n",
    "    'Action': ['Action'],\n",
    "    'Comedy': ['Comedy'],\n",
    "    'Heist film/Thriller': ['Crime', 'Thriller'],\n",
    "    'Musical/Western/Fantasy': ['Musical', 'Western', 'Fantasy'],\n",
    "    'Drama': ['Drama'],\n",
    "    'Romantic comedy': ['Romantic', 'Comedy'],\n",
    "    'Action comedy': ['Action', 'Comedy'],\n",
    "    'Horror anthology': ['Horror'],\n",
    "    'Political thriller': ['Thriller'],\n",
    "    'Superhero-Comedy': ['Superhero', 'Comedy'],\n",
    "    'Horror': ['Horror'],\n",
    "    'Romance drama': ['Romantic', 'Drama'],\n",
    "    'Anime / Short': ['Anime', 'Short'],\n",
    "    'Superhero': ['Superhero'],\n",
    "    'Heist': ['Crime'],\n",
    "    'Western': ['Western'],\n",
    "    'Animation/Superhero': ['Animation', 'Superhero'],\n",
    "    'Family film': ['Family'],\n",
    "    'Action-thriller': ['Action', 'Thriller'],\n",
    "    'Teen comedy-drama': ['Comedy', 'Drama'],\n",
    "    'Romantic drama': ['Romantic', 'Drama'],\n",
    "    'Animation': ['Animation'],\n",
    "    'Aftershow / Interview': ['Aftershow interview'],\n",
    "    'Christmas musical': ['Christmas', 'Musical'],\n",
    "    'Science fiction adventure': ['Science fiction', 'Adventure'],\n",
    "    'Science fiction': ['Science fiction'],\n",
    "    'Variety show': ['Variety show'],\n",
    "    'Comedy-drama': ['Comedy', 'Drama'],\n",
    "    'Comedy/Fantasy/Family': ['Comedy', 'Fantasy', 'Family'],\n",
    "    'Supernatural drama': ['Horror', 'Drama'],\n",
    "    'Action/Comedy': ['Action', 'Comedy'],\n",
    "    'Action/Science fiction': ['Action', 'Science fiction'],\n",
    "    'Romantic teenage drama': ['Romantic', 'Drama'],\n",
    "    'Comedy / Musical': ['Comedy', 'Musical'],\n",
    "    'Musical': ['Musical'],\n",
    "    'Science fiction/Mystery': ['Science fiction', 'Crime'],\n",
    "    'Crime drama': ['Crime', 'Drama'],\n",
    "    'Psychological thriller drama': ['Psychological', 'Thriller', 'Drama'],\n",
    "    'Adventure/Comedy': ['Adventure', 'Comedy'],\n",
    "    'Black comedy': ['Comedy'],\n",
    "    'Romance': ['Romantic'],\n",
    "    'Horror comedy': ['Horror', 'Comedy'],\n",
    "    'Christian musical': ['Musical'],\n",
    "    'Romantic teen drama': ['Romantic', 'Drama'],\n",
    "    'Family': ['Family'],\n",
    "    'Dark comedy': ['Comedy'],\n",
    "    'Comedy horror': ['Comedy', 'Horror'],\n",
    "    'Psychological thriller': ['Psychological', 'Thriller'],\n",
    "    'Biopic': ['Biographical'],\n",
    "    'Science fiction/Thriller': ['Science fiction', 'Thriller'],\n",
    "    'Mockumentary': ['Comedy'],\n",
    "    'Satire': ['Comedy'],\n",
    "    'One-man show': ['One-man show'],\n",
    "    'Romantic comedy-drama': ['Romantic', 'Comedy', 'Drama'],\n",
    "    'Comedy/Horror': ['Comedy'],\n",
    "    'Fantasy': ['Fantasy'],\n",
    "    'Sports-drama': ['Sport', 'Drama'],\n",
    "    'Zombie/Heist': ['Horror', 'Crime'],\n",
    "    'Psychological horror': ['Psychological', 'Horror'],\n",
    "    'Sports film': ['Sport'],\n",
    "    'Comedy mystery': ['Comedy', 'Crime'],\n",
    "    'Romantic thriller': ['Romantic', 'Thriller'],\n",
    "    'Christmas comedy': ['Christmas', 'Comedy'],\n",
    "    'War-Comedy': ['War', 'Comedy'],\n",
    "    'Romantic comedy/Holiday': ['Romantic', 'Comedy'],\n",
    "    'Adventure-romance': ['Adventure', 'Romantic'],\n",
    "    'Adventure': ['Adventure'],\n",
    "    'Horror-thriller': ['Horror', 'Thriller'],\n",
    "    'Dance comedy': ['Comedy'],\n",
    "    'Stop Motion': ['Animation'],\n",
    "    'Horror/Crime drama': ['Horror', 'Crime', 'Drama'],\n",
    "    'Urban fantasy': ['Fantasy'],\n",
    "    'Drama/Horror': ['Drama', 'Horror'],\n",
    "    'Family/Comedy-drama': ['Family', 'Comedy', 'Drama'],\n",
    "    'War': ['War'],\n",
    "    'Crime thriller': ['Crime', 'Thriller'],\n",
    "    'Science fiction/Action': ['Science fiction', 'Action'],\n",
    "    'Teen comedy horror': ['Comedy', 'Horror'],\n",
    "    'Concert Film': ['Concert'],\n",
    "    'Musical comedy': ['Musical', 'Comedy'],\n",
    "    'Animation/Musical/Adventure': ['Animation', 'Musical', 'Adventure'],\n",
    "    'Animation / Musicial': ['Animation', 'Musical'],\n",
    "    'Animation/Comedy/Adventure': ['Animation', 'Comedy', 'Adventure'],\n",
    "    'Action thriller': ['Action', 'Thriller'],\n",
    "    'Anime/Science fiction': ['Anime', 'Science fiction'],\n",
    "    'Animation / Short': ['Animation', 'Short'],\n",
    "    'War drama': ['War', 'Drama'],\n",
    "    'Family/Christmas musical': ['Family', 'Christmas', 'Musical'],\n",
    "    'Science fiction thriller': ['Science fiction', 'Thriller'],\n",
    "    'Drama / Short': ['Drama', 'Short'],\n",
    "    'Hidden-camera prank comedy': ['Comedy'],\n",
    "    'Spy thriller': ['Thriller'],\n",
    "    'Anime/Fantasy': ['Anime', 'Fantasy'],\n",
    "    'Animated musical comedy': ['Animation', 'Musical', 'Comedy'],\n",
    "    'Variety Show': ['Variety show'],\n",
    "    'Superhero/Action': ['Superhero', 'Action'],\n",
    "    'Biographical/Comedy': ['Biographical', 'Comedy'],\n",
    "    'Historical-epic': ['Historical'],\n",
    "    'Animation / Comedy': ['Animation', 'Comedy'],\n",
    "    'Christmas/Fantasy/Adventure/Comedy': ['Christmas', 'Fantasy', 'Adventure', 'Comedy'],\n",
    "    'Mentalism special': ['Documentary', 'Thriller'],\n",
    "    'Drama-Comedy': ['Drama', 'Comedy'],\n",
    "    'Coming-of-age comedy-drama': ['Comedy', 'Drama'],\n",
    "    'Historical drama': ['Historical', 'Drama'],\n",
    "    'Making-of': ['Documentary'],\n",
    "    'Action-adventure': ['Action', 'Adventure'],\n",
    "    'Animation / Science Fiction': ['Animation', 'Science fiction'],\n",
    "    'Anthology/Dark comedy': ['Comedy'],\n",
    "    'Musical / Short': ['Musical', 'Short'],\n",
    "    'Animation/Christmas/Comedy/Adventure': ['Animation', 'Christmas', 'Comedy', 'Adventure']\n",
    "}\n",
    "\n",
    "new_genres = list()\n",
    "for new_genre in genres_norm.values():\n",
    "    new_genres.append('/'.join(new_genre))\n",
    "\n",
    "genres_to_change = dict(zip(genres_norm.keys(), new_genres))\n",
    "netflix['genre'] = netflix['genre'].map(genres_to_change)\n",
    "netflix['genre']"
   ]
  },
  {
   "cell_type": "code",
   "execution_count": 66,
   "metadata": {},
   "outputs": [
    {
     "data": {
      "text/html": [
       "<div>\n",
       "<style scoped>\n",
       "    .dataframe tbody tr th:only-of-type {\n",
       "        vertical-align: middle;\n",
       "    }\n",
       "\n",
       "    .dataframe tbody tr th {\n",
       "        vertical-align: top;\n",
       "    }\n",
       "\n",
       "    .dataframe thead th {\n",
       "        text-align: right;\n",
       "    }\n",
       "</style>\n",
       "<table border=\"1\" class=\"dataframe\">\n",
       "  <thead>\n",
       "    <tr style=\"text-align: right;\">\n",
       "      <th></th>\n",
       "      <th>title</th>\n",
       "      <th>genre</th>\n",
       "      <th>premiere</th>\n",
       "      <th>runtime</th>\n",
       "      <th>imdb</th>\n",
       "      <th>language</th>\n",
       "    </tr>\n",
       "  </thead>\n",
       "  <tbody>\n",
       "  </tbody>\n",
       "</table>\n",
       "</div>"
      ],
      "text/plain": [
       "Empty DataFrame\n",
       "Columns: [title, genre, premiere, runtime, imdb, language]\n",
       "Index: []"
      ]
     },
     "execution_count": 66,
     "metadata": {},
     "output_type": "execute_result"
    }
   ],
   "source": [
    "netflix[netflix['genre'].isna()]"
   ]
  },
  {
   "cell_type": "code",
   "execution_count": 67,
   "metadata": {},
   "outputs": [],
   "source": [
    "genres = list()\n",
    "for values in genres_norm.values():\n",
    "    for val in values:\n",
    "        genres.append(val)"
   ]
  },
  {
   "cell_type": "code",
   "execution_count": 72,
   "metadata": {},
   "outputs": [
    {
     "data": {
      "text/plain": [
       "[('Documentary', 162.0),\n",
       " ('Comedy', 145.0),\n",
       " ('Drama', 129.0),\n",
       " ('Thriller', 59.0),\n",
       " ('Romantic', 57.0),\n",
       " ('Horror', 23.0),\n",
       " ('Action', 21.0),\n",
       " ('Crime', 20.0),\n",
       " ('Science fiction', 19.0),\n",
       " ('Animation', 18.0),\n",
       " ('Musical', 14.0),\n",
       " ('Adventure', 10.0),\n",
       " ('Biographical', 10.0),\n",
       " ('Short', 7.0),\n",
       " ('Family', 7.0),\n",
       " ('Fantasy', 6.0),\n",
       " ('Aftershow interview', 6.0),\n",
       " ('Psychological', 6.0),\n",
       " ('Concert', 6.0),\n",
       " ('Superhero', 5.0),\n",
       " ('Christmas', 5.0),\n",
       " ('Variety show', 5.0),\n",
       " ('War', 5.0),\n",
       " ('Western', 4.0),\n",
       " ('Anime', 4.0),\n",
       " ('Sport', 4.0),\n",
       " ('One-man show', 3.0),\n",
       " ('Historical', 2.0)]"
      ]
     },
     "execution_count": 72,
     "metadata": {},
     "output_type": "execute_result"
    }
   ],
   "source": [
    "genres_occ = dict(zip(genres, np.zeros(len(genres))))\n",
    "\n",
    "for values in netflix['genre']:\n",
    "    values = values.split('/')\n",
    "    for val in values:\n",
    "        val = val.strip()\n",
    "        if val in genres:\n",
    "            genres_occ[val] += 1\n",
    "\n",
    "sorted(genres_occ.items(), key=lambda x:x[1], reverse=True)"
   ]
  },
  {
   "cell_type": "code",
   "execution_count": 76,
   "metadata": {},
   "outputs": [
    {
     "data": {
      "text/plain": [
       "{'Documentary': 162.0,\n",
       " 'Thriller': 59.0,\n",
       " 'Science fiction': 19.0,\n",
       " 'Drama': 129.0,\n",
       " 'Horror': 23.0,\n",
       " 'Crime': 20.0,\n",
       " 'Action': 21.0,\n",
       " 'Comedy': 145.0,\n",
       " 'Musical': 14.0,\n",
       " 'Romantic': 57.0,\n",
       " 'Animation': 18.0,\n",
       " 'Adventure': 10.0,\n",
       " 'Biographical': 10.0}"
      ]
     },
     "execution_count": 76,
     "metadata": {},
     "output_type": "execute_result"
    }
   ],
   "source": [
    "genres_occ = {k:v for k, v in genres_occ.items() if v >= 10}\n",
    "genres_occ"
   ]
  },
  {
   "cell_type": "code",
   "execution_count": 77,
   "metadata": {},
   "outputs": [
    {
     "ename": "KeyError",
     "evalue": "'Western'",
     "output_type": "error",
     "traceback": [
      "\u001b[0;31m---------------------------------------------------------------------------\u001b[0m",
      "\u001b[0;31mKeyError\u001b[0m                                  Traceback (most recent call last)",
      "\u001b[0;32m/tmp/ipykernel_2387/4116442262.py\u001b[0m in \u001b[0;36m<module>\u001b[0;34m\u001b[0m\n\u001b[1;32m      8\u001b[0m         \u001b[0;32mif\u001b[0m \u001b[0mval\u001b[0m \u001b[0;32min\u001b[0m \u001b[0mdummy_genres\u001b[0m\u001b[0;34m.\u001b[0m\u001b[0mkeys\u001b[0m\u001b[0;34m(\u001b[0m\u001b[0;34m)\u001b[0m\u001b[0;34m:\u001b[0m\u001b[0;34m\u001b[0m\u001b[0;34m\u001b[0m\u001b[0m\n\u001b[1;32m      9\u001b[0m             \u001b[0mdummy_genres\u001b[0m\u001b[0;34m[\u001b[0m\u001b[0mval\u001b[0m\u001b[0;34m]\u001b[0m\u001b[0;34m.\u001b[0m\u001b[0mappend\u001b[0m\u001b[0;34m(\u001b[0m\u001b[0;36m1\u001b[0m\u001b[0;34m)\u001b[0m\u001b[0;34m\u001b[0m\u001b[0;34m\u001b[0m\u001b[0m\n\u001b[0;32m---> 10\u001b[0;31m         \u001b[0;32melse\u001b[0m\u001b[0;34m:\u001b[0m \u001b[0mdummy_genres\u001b[0m\u001b[0;34m[\u001b[0m\u001b[0mval\u001b[0m\u001b[0;34m]\u001b[0m\u001b[0;34m.\u001b[0m\u001b[0mappend\u001b[0m\u001b[0;34m(\u001b[0m\u001b[0;36m0\u001b[0m\u001b[0;34m)\u001b[0m\u001b[0;34m\u001b[0m\u001b[0;34m\u001b[0m\u001b[0m\n\u001b[0m\u001b[1;32m     11\u001b[0m \u001b[0;34m\u001b[0m\u001b[0m\n\u001b[1;32m     12\u001b[0m \u001b[0mdummy_genres\u001b[0m\u001b[0;34m\u001b[0m\u001b[0;34m\u001b[0m\u001b[0m\n",
      "\u001b[0;31mKeyError\u001b[0m: 'Western'"
     ]
    }
   ],
   "source": [
    "dummy_genres = dict()\n",
    "for genre in genres_occ.keys():\n",
    "    dummy_genres[genre] = list()\n",
    "\n",
    "for values in netflix['genre']:\n",
    "    values = values.split('/')\n",
    "    for val in values:\n",
    "        if val in dummy_genres.keys():\n",
    "            dummy_genres[val].append(1)\n",
    "        else: dummy_genres[val].append(0)\n",
    "\n",
    "dummy_genres"
   ]
  },
  {
   "cell_type": "code",
   "execution_count": null,
   "metadata": {},
   "outputs": [],
   "source": [
    "# TODO cleaning na kolumnie genre jeszcze raz, uzywajac tylko tych z genres_occ"
   ]
  }
 ],
 "metadata": {
  "interpreter": {
   "hash": "33d82247624afc0262d1a157077d4fcc9322cf4e7b12f0d5aa5a7412cea8313a"
  },
  "kernelspec": {
   "display_name": "Python 3.9.7 ('base')",
   "language": "python",
   "name": "python3"
  },
  "language_info": {
   "codemirror_mode": {
    "name": "ipython",
    "version": 3
   },
   "file_extension": ".py",
   "mimetype": "text/x-python",
   "name": "python",
   "nbconvert_exporter": "python",
   "pygments_lexer": "ipython3",
   "version": "3.9.7"
  },
  "orig_nbformat": 4
 },
 "nbformat": 4,
 "nbformat_minor": 2
}
